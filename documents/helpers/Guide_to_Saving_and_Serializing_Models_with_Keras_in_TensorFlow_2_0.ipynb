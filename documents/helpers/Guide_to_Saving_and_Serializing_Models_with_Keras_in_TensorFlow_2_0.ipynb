{
  "nbformat": 4,
  "nbformat_minor": 0,
  "metadata": {
    "colab": {
      "provenance": []
    },
    "kernelspec": {
      "name": "python3",
      "display_name": "Python 3"
    }
  },
  "cells": [
    {
      "metadata": {
        "id": "vnTvqAgfspGJ",
        "colab": {
          "base_uri": "https://localhost:8080/",
          "height": 530
        },
        "outputId": "47a3e6e4-1a16-47e2-cc2b-1aab1817ffcf"
      },
      "cell_type": "code",
      "source": [
        "!pip install tf-nightly-gpu-2.0-preview"
      ],
      "execution_count": null,
      "outputs": [
        {
          "output_type": "stream",
          "text": [
            "Collecting tf-nightly-gpu-2.0-preview\n",
            "\u001b[?25l  Downloading https://files.pythonhosted.org/packages/80/e8/d43471f05487529a7bc06b748ceaf70082d2f397a124fea77deadcb2b115/tf_nightly_gpu_2.0_preview-2.0.0.dev20190222-cp36-cp36m-manylinux1_x86_64.whl (331.4MB)\n",
            "\u001b[K    100% |████████████████████████████████| 331.4MB 51kB/s \n",
            "\u001b[?25hRequirement already satisfied: wheel>=0.26 in /usr/local/lib/python3.6/dist-packages (from tf-nightly-gpu-2.0-preview) (0.33.0)\n",
            "Collecting google-pasta>=0.1.2 (from tf-nightly-gpu-2.0-preview)\n",
            "\u001b[?25l  Downloading https://files.pythonhosted.org/packages/8c/96/adbd4eafe72ce9b5ca6f168fbf109386e1b601f7c59926a11e9d7b7a5b44/google_pasta-0.1.4-py3-none-any.whl (51kB)\n",
            "\u001b[K    100% |████████████████████████████████| 61kB 17.5MB/s \n",
            "\u001b[?25hRequirement already satisfied: termcolor>=1.1.0 in /usr/local/lib/python3.6/dist-packages (from tf-nightly-gpu-2.0-preview) (1.1.0)\n",
            "Requirement already satisfied: absl-py>=0.1.6 in /usr/local/lib/python3.6/dist-packages (from tf-nightly-gpu-2.0-preview) (0.7.0)\n",
            "Requirement already satisfied: astor>=0.6.0 in /usr/local/lib/python3.6/dist-packages (from tf-nightly-gpu-2.0-preview) (0.7.1)\n",
            "Requirement already satisfied: protobuf>=3.6.1 in /usr/local/lib/python3.6/dist-packages (from tf-nightly-gpu-2.0-preview) (3.6.1)\n",
            "Requirement already satisfied: six>=1.10.0 in /usr/local/lib/python3.6/dist-packages (from tf-nightly-gpu-2.0-preview) (1.11.0)\n",
            "Requirement already satisfied: numpy<2.0,>=1.14.5 in /usr/local/lib/python3.6/dist-packages (from tf-nightly-gpu-2.0-preview) (1.14.6)\n",
            "Requirement already satisfied: gast>=0.2.0 in /usr/local/lib/python3.6/dist-packages (from tf-nightly-gpu-2.0-preview) (0.2.2)\n",
            "Requirement already satisfied: keras-preprocessing>=1.0.5 in /usr/local/lib/python3.6/dist-packages (from tf-nightly-gpu-2.0-preview) (1.0.9)\n",
            "Collecting tensorflow-estimator-2.0-preview (from tf-nightly-gpu-2.0-preview)\n",
            "\u001b[?25l  Downloading https://files.pythonhosted.org/packages/f5/4a/7d0d6c4e419d65022877d85cac041bc06e760a83a97f1f79e27204423c02/tensorflow_estimator_2.0_preview-1.14.0.dev2019022200-py2.py3-none-any.whl (346kB)\n",
            "\u001b[K    100% |████████████████████████████████| 348kB 14.2MB/s \n",
            "\u001b[?25hCollecting tb-nightly<1.14.0a0,>=1.13.0a0 (from tf-nightly-gpu-2.0-preview)\n",
            "\u001b[?25l  Downloading https://files.pythonhosted.org/packages/2c/85/2ed9de77fc72e61b38ecf639b04f9704605fcfca16c7e5796853650bbc62/tb_nightly-1.13.0a20190222-py3-none-any.whl (2.9MB)\n",
            "\u001b[K    100% |████████████████████████████████| 2.9MB 9.1MB/s \n",
            "\u001b[?25hRequirement already satisfied: grpcio>=1.8.6 in /usr/local/lib/python3.6/dist-packages (from tf-nightly-gpu-2.0-preview) (1.15.0)\n",
            "Requirement already satisfied: keras-applications>=1.0.6 in /usr/local/lib/python3.6/dist-packages (from tf-nightly-gpu-2.0-preview) (1.0.7)\n",
            "Requirement already satisfied: setuptools in /usr/local/lib/python3.6/dist-packages (from protobuf>=3.6.1->tf-nightly-gpu-2.0-preview) (40.8.0)\n",
            "Requirement already satisfied: markdown>=2.6.8 in /usr/local/lib/python3.6/dist-packages (from tb-nightly<1.14.0a0,>=1.13.0a0->tf-nightly-gpu-2.0-preview) (3.0.1)\n",
            "Requirement already satisfied: werkzeug>=0.11.15 in /usr/local/lib/python3.6/dist-packages (from tb-nightly<1.14.0a0,>=1.13.0a0->tf-nightly-gpu-2.0-preview) (0.14.1)\n",
            "Requirement already satisfied: h5py in /usr/local/lib/python3.6/dist-packages (from keras-applications>=1.0.6->tf-nightly-gpu-2.0-preview) (2.8.0)\n",
            "Installing collected packages: google-pasta, tensorflow-estimator-2.0-preview, tb-nightly, tf-nightly-gpu-2.0-preview\n",
            "Successfully installed google-pasta-0.1.4 tb-nightly-1.13.0a20190222 tensorflow-estimator-2.0-preview-1.14.0.dev2019022200 tf-nightly-gpu-2.0-preview-2.0.0.dev20190222\n"
          ],
          "name": "stdout"
        }
      ]
    },
    {
      "metadata": {
        "id": "R55Begk6sy_c",
        "outputId": "599bff9b-ce42-4b04-b820-f0906b6baab2",
        "colab": {
          "base_uri": "https://localhost:8080/",
          "height": 34
        }
      },
      "cell_type": "code",
      "source": [
        "import numpy as np\n",
        "import tensorflow as tf\n",
        "print(tf.__version__)  # TF 2.0\n",
        "\n",
        "tf.keras.backend.clear_session()  # For easy reset of notebook state"
      ],
      "execution_count": null,
      "outputs": [
        {
          "output_type": "stream",
          "text": [
            "2.0.0-dev20190222\n"
          ],
          "name": "stdout"
        }
      ]
    },
    {
      "metadata": {
        "id": "hFDUpbtvv_3u"
      },
      "cell_type": "markdown",
      "source": [
        "# Saving and Serializing Models with Keras in TensorFlow 2.0\n",
        "\n",
        "The first part of this guide covers saving and serialization for Sequential models and models built using the Functional API and for Sequential models. The saving and serialization APIs are the exact same for both of these types of models.\n",
        "\n",
        "Saving for custom subclasses of `Model` is covered in the section \"Saving Subclassed Models\". The APIs in this case are slightly different than for Sequential or Functional models."
      ]
    },
    {
      "metadata": {
        "id": "wwCxkE6RyyPy"
      },
      "cell_type": "markdown",
      "source": [
        "## Part I: Saving Sequential models or Functional models\n",
        "\n",
        "Let's consider the following model:"
      ]
    },
    {
      "metadata": {
        "id": "ILmySACTvSA9"
      },
      "cell_type": "code",
      "source": [
        "from tensorflow import keras\n",
        "from tensorflow.keras import layers\n",
        "\n",
        "inputs = keras.Input(shape=(784,), name='digits')\n",
        "x = layers.Dense(64, activation='relu', name='dense_1')(inputs)\n",
        "x = layers.Dense(64, activation='relu', name='dense_2')(x)\n",
        "outputs = layers.Dense(10, activation='softmax', name='predictions')(x)\n",
        "\n",
        "model = keras.Model(inputs=inputs, outputs=outputs, name='3_layer_mlp')"
      ],
      "execution_count": null,
      "outputs": []
    },
    {
      "metadata": {
        "id": "mhjwTIupwt9t",
        "outputId": "ba22d43a-ca1b-47e1-d9d3-de1113814948",
        "colab": {
          "base_uri": "https://localhost:8080/",
          "height": 289
        }
      },
      "cell_type": "code",
      "source": [
        "model.summary()"
      ],
      "execution_count": null,
      "outputs": [
        {
          "output_type": "stream",
          "text": [
            "Model: \"3_layer_mlp\"\n",
            "_________________________________________________________________\n",
            "Layer (type)                 Output Shape              Param #   \n",
            "=================================================================\n",
            "digits (InputLayer)          [(None, 784)]             0         \n",
            "_________________________________________________________________\n",
            "dense_1 (Dense)              (None, 64)                50240     \n",
            "_________________________________________________________________\n",
            "dense_2 (Dense)              (None, 64)                4160      \n",
            "_________________________________________________________________\n",
            "predictions (Dense)          (None, 10)                650       \n",
            "=================================================================\n",
            "Total params: 55,050\n",
            "Trainable params: 55,050\n",
            "Non-trainable params: 0\n",
            "_________________________________________________________________\n"
          ],
          "name": "stdout"
        }
      ]
    },
    {
      "metadata": {
        "id": "xPRqbd0yw8hY"
      },
      "cell_type": "markdown",
      "source": [
        "Optionally, let's train this model, just so it has weight values to save, as well as an an optimizer state.\n",
        "Of course, you can save models you've never trained, too, but obviously that's less interesting."
      ]
    },
    {
      "metadata": {
        "id": "gCygTeGQw74g",
        "outputId": "c195eb47-a9de-4037-92fe-9579730e5a5c",
        "colab": {
          "base_uri": "https://localhost:8080/",
          "height": 68
        }
      },
      "cell_type": "code",
      "source": [
        "(x_train, y_train), (x_test, y_test) = keras.datasets.mnist.load_data()\n",
        "x_train = x_train.reshape(60000, 784).astype('float32') / 255\n",
        "x_test = x_test.reshape(10000, 784).astype('float32') / 255\n",
        "\n",
        "model.compile(loss='sparse_categorical_crossentropy',\n",
        "              optimizer=keras.optimizers.RMSprop())\n",
        "history = model.fit(x_train, y_train,\n",
        "                    batch_size=64,\n",
        "                    epochs=1)"
      ],
      "execution_count": null,
      "outputs": [
        {
          "output_type": "stream",
          "text": [
            "Downloading data from https://storage.googleapis.com/tensorflow/tf-keras-datasets/mnist.npz\n",
            "11493376/11490434 [==============================] - 0s 0us/step\n",
            "60000/60000 [==============================] - 3s 46us/sample - loss: 0.3192\n"
          ],
          "name": "stdout"
        }
      ]
    },
    {
      "metadata": {
        "id": "htnmbhz-iOwh"
      },
      "cell_type": "code",
      "source": [
        "# Save predictions for future checks\n",
        "predictions = model.predict(x_test)"
      ],
      "execution_count": null,
      "outputs": []
    },
    {
      "metadata": {
        "id": "opP1KROHwWwd"
      },
      "cell_type": "markdown",
      "source": [
        "\n",
        "### Whole-model saving\n",
        "\n",
        "You can save a model built with the Functional API into a single file. You can later recreate the same model from this file, even if you no longer have access to the code that created the model.\n",
        "\n",
        "This file includes:\n",
        "\n",
        "- The model's architecture\n",
        "- The model's weight values (which were learned during training)\n",
        "- The model's training config (what you passed to `compile`), if any\n",
        "- The optimizer and its state, if any (this enables you to restart training where you left off)"
      ]
    },
    {
      "metadata": {
        "id": "HqHvq6Igw3wx"
      },
      "cell_type": "code",
      "source": [
        "# Save the model\n",
        "model.save('path_to_my_model.h5')\n",
        "\n",
        "# Recreate the exact same model purely from the file\n",
        "new_model = keras.models.load_model('path_to_my_model.h5')\n",
        "\n",
        "# Check that the state is preserved\n",
        "new_predictions = new_model.predict(x_test)\n",
        "np.testing.assert_allclose(predictions, new_predictions, atol=1e-6)\n",
        "\n",
        "# Note that the optimizer state is preserved as well:\n",
        "# you can resume training where you left off."
      ],
      "execution_count": null,
      "outputs": []
    },
    {
      "metadata": {
        "id": "-WEPW3n8ICyz"
      },
      "cell_type": "markdown",
      "source": [
        "### Export to SavedModel\n",
        "\n",
        "You can also export a whole model to the TensorFlow `SavedModel` format. `SavedModel` is a standalone serialization format for Tensorflow objects, supported by TensorFlow serving as well as TensorFlow implementations other than Python."
      ]
    },
    {
      "metadata": {
        "id": "cKASRTKCU5nv",
        "colab": {
          "base_uri": "https://localhost:8080/",
          "height": 292
        },
        "outputId": "a624542a-7c5e-4674-e453-b8ca2dbdc195"
      },
      "cell_type": "code",
      "source": [
        "# Export the model to a SavedModel\n",
        "keras.experimental.export_saved_model(model, 'path_to_saved_model')\n",
        "\n",
        "# Recreate the exact same model\n",
        "new_model = keras.experimental.load_from_saved_model('path_to_saved_model')\n",
        "\n",
        "# Check that the state is preserved\n",
        "new_predictions = new_model.predict(x_test)\n",
        "np.testing.assert_allclose(predictions, new_predictions, atol=1e-6)\n",
        "\n",
        "# Note that the optimizer state is preserved as well:\n",
        "# you can resume training where you left off."
      ],
      "execution_count": null,
      "outputs": [
        {
          "output_type": "stream",
          "text": [
            "WARNING: Logging before flag parsing goes to stderr.\n",
            "W0223 01:37:25.099484 140058736007040 deprecation.py:506] From /usr/local/lib/python3.6/dist-packages/tensorflow/python/ops/init_ops.py:97: calling GlorotUniform.__init__ (from tensorflow.python.ops.init_ops) with dtype is deprecated and will be removed in a future version.\n",
            "Instructions for updating:\n",
            "Call initializer instance with the dtype argument instead of passing it to the constructor\n",
            "W0223 01:37:25.101749 140058736007040 deprecation.py:506] From /usr/local/lib/python3.6/dist-packages/tensorflow/python/ops/init_ops.py:1257: calling VarianceScaling.__init__ (from tensorflow.python.ops.init_ops) with dtype is deprecated and will be removed in a future version.\n",
            "Instructions for updating:\n",
            "Call initializer instance with the dtype argument instead of passing it to the constructor\n",
            "W0223 01:37:25.110390 140058736007040 deprecation.py:506] From /usr/local/lib/python3.6/dist-packages/tensorflow/python/ops/init_ops.py:97: calling Zeros.__init__ (from tensorflow.python.ops.init_ops) with dtype is deprecated and will be removed in a future version.\n",
            "Instructions for updating:\n",
            "Call initializer instance with the dtype argument instead of passing it to the constructor\n",
            "W0223 01:37:25.751379 140058736007040 deprecation.py:323] From /usr/local/lib/python3.6/dist-packages/tensorflow/python/saved_model/signature_def_utils_impl.py:253: build_tensor_info (from tensorflow.python.saved_model.utils_impl) is deprecated and will be removed in a future version.\n",
            "Instructions for updating:\n",
            "This function will only be available through the v1 compatibility library as tf.compat.v1.saved_model.utils.build_tensor_info or tf.compat.v1.saved_model.build_tensor_info.\n",
            "W0223 01:37:25.753293 140058736007040 tf_logging.py:161] Export includes no default signature!\n",
            "W0223 01:37:26.193101 140058736007040 tf_logging.py:161] Export includes no default signature!\n"
          ],
          "name": "stderr"
        }
      ]
    },
    {
      "metadata": {
        "id": "4AWgwkKWIhfj"
      },
      "cell_type": "markdown",
      "source": [
        "The `SavedModel` files that were created contain:\n",
        "\n",
        "- A TensorFlow checkpoint containing the model weights.\n",
        "- A `SavedModel` proto containing the underlying Tensorflow graph. Separate\n",
        "     graphs are saved for prediction (serving), train, and evaluation. If\n",
        "     the model wasn't compiled before, then only the inference graph\n",
        "     gets exported.\n",
        "- The model's architecture config, if available."
      ]
    },
    {
      "metadata": {
        "id": "GkY8XP_XxgMI"
      },
      "cell_type": "markdown",
      "source": [
        "### Architecture-only saving\n",
        "\n",
        "Sometimes, you are only interested in the architecture of the model, and you don't need to save the weight values or the optimizer. In this case, you can retrieve the \"config\" of the model via the `get_config()` method. The config is a Python dict that enables you to recreate the same model -- initialized from scratch, without any of the information learned previously during training."
      ]
    },
    {
      "metadata": {
        "id": "yQGGvo2Fw4o-"
      },
      "cell_type": "code",
      "source": [
        "config = model.get_config()\n",
        "reinitialized_model = keras.Model.from_config(config)\n",
        "\n",
        "# Note that the model state is not preserved! We only saved the architecture.\n",
        "new_predictions = reinitialized_model.predict(x_test)\n",
        "assert abs(np.sum(predictions - new_predictions)) > 0."
      ],
      "execution_count": null,
      "outputs": []
    },
    {
      "metadata": {
        "id": "WsNBBvDgxsTS"
      },
      "cell_type": "markdown",
      "source": [
        "You can alternatively use `to_json()` from `from_json()`, which uses a JSON string to store the config instead of a Python dict. This is useful to save the config to disk."
      ]
    },
    {
      "metadata": {
        "id": "5a0z7_6XxqWV"
      },
      "cell_type": "code",
      "source": [
        "json_config = model.to_json()\n",
        "reinitialized_model = keras.models.model_from_json(json_config)"
      ],
      "execution_count": null,
      "outputs": []
    },
    {
      "metadata": {
        "id": "SGC7R6IIxy0o"
      },
      "cell_type": "markdown",
      "source": [
        "### Weights-only saving\n",
        "\n",
        "Sometimes, you are only interested in the state of the model -- its weights values -- and not in the architecture. In this case, you can retrieve the weights values as a list of Numpy arrays via `get_weights()`, and set the state of the model via `set_weights`:"
      ]
    },
    {
      "metadata": {
        "id": "B8tHwEvkxw5E"
      },
      "cell_type": "code",
      "source": [
        "weights = model.get_weights()  # Retrieves the state of the model.\n",
        "model.set_weights(weights)  # Sets the state of the model."
      ],
      "execution_count": null,
      "outputs": []
    },
    {
      "metadata": {
        "id": "Ydwtw-u2x7xC"
      },
      "cell_type": "markdown",
      "source": [
        "You can combine `get_config()`/`from_config()` and `get_weights()`/`set_weights()` to recreate your model in the same state. However, unlike `model.save()`, this will not include the training config and the optimizer. You would have to call `compile()` again before using the model for training."
      ]
    },
    {
      "metadata": {
        "id": "LWVtuxtrx5lb"
      },
      "cell_type": "code",
      "source": [
        "config = model.get_config()\n",
        "weights = model.get_weights()\n",
        "\n",
        "new_model = keras.Model.from_config(config)\n",
        "new_model.set_weights(weights)\n",
        "\n",
        "# Check that the state is preserved\n",
        "new_predictions = new_model.predict(x_test)\n",
        "np.testing.assert_allclose(predictions, new_predictions, atol=1e-6)\n",
        "\n",
        "# Note that the optimizer was not preserved,\n",
        "# so the model should be compiled anew before training\n",
        "# (and the optimizer will start from a blank state)."
      ],
      "execution_count": null,
      "outputs": []
    },
    {
      "metadata": {
        "id": "prk0GzwCyIYy"
      },
      "cell_type": "markdown",
      "source": [
        "The save-to-disk alternative to `get_weights()` and `set_weights(weights)`\n",
        "is `save_weights(fpath)` and `load_weights(fpath)`.\n",
        "\n",
        "Here's an example that saves to disk:"
      ]
    },
    {
      "metadata": {
        "id": "2irLnOUbyHlI"
      },
      "cell_type": "code",
      "source": [
        "# Save JSON config to disk\n",
        "json_config = model.to_json()\n",
        "with open('model_config.json', 'w') as json_file:\n",
        "    json_file.write(json_config)\n",
        "# Save weights to disk\n",
        "model.save_weights('path_to_my_weights.h5')\n",
        "\n",
        "# Reload the model from the 2 files we saved\n",
        "with open('model_config.json') as json_file:\n",
        "    json_config = json_file.read()\n",
        "new_model = keras.models.model_from_json(json_config)\n",
        "new_model.load_weights('path_to_my_weights.h5')\n",
        "\n",
        "# Check that the state is preserved\n",
        "new_predictions = new_model.predict(x_test)\n",
        "np.testing.assert_allclose(predictions, new_predictions, atol=1e-6)\n",
        "\n",
        "# Note that the optimizer was not preserved."
      ],
      "execution_count": null,
      "outputs": []
    },
    {
      "metadata": {
        "id": "KBxcFAPHyYi5"
      },
      "cell_type": "markdown",
      "source": [
        "But remember that the simplest, recommended way is just this:"
      ]
    },
    {
      "metadata": {
        "id": "DE4b3ndNyQh3"
      },
      "cell_type": "code",
      "source": [
        "model.save('path_to_my_model.h5')\n",
        "del model\n",
        "model = keras.models.load_model('path_to_my_model.h5')"
      ],
      "execution_count": null,
      "outputs": []
    },
    {
      "metadata": {
        "id": "yKikmbdC3O_i"
      },
      "cell_type": "markdown",
      "source": [
        "### Weights-only saving in SavedModel format\n",
        "\n",
        "Note that `save_weights` can create files either in the Keras HDF5 format,\n",
        "or in the TensorFlow SavedModel format. The format is infered from the file extension\n",
        "you provide: if it is \".h5\" or \".keras\", the framework uses the Keras HDF5 format. Anything\n",
        "else defaults to SavedModel."
      ]
    },
    {
      "metadata": {
        "id": "0pYKb6LV3h2l"
      },
      "cell_type": "code",
      "source": [
        "model.save_weights('path_to_my_tf_savedmodel')"
      ],
      "execution_count": null,
      "outputs": []
    },
    {
      "metadata": {
        "id": "ZFwKv6JC3kyu"
      },
      "cell_type": "markdown",
      "source": [
        "For total explicitness, the format can be explicitly passed via the `save_format` argument, which can take the value \"tf\" or \"h5\":"
      ]
    },
    {
      "metadata": {
        "id": "oN9vOaWU34lA"
      },
      "cell_type": "code",
      "source": [
        "model.save_weights('path_to_my_tf_savedmodel', save_format='tf')"
      ],
      "execution_count": null,
      "outputs": []
    },
    {
      "metadata": {
        "id": "xXgtNRCSyuIW"
      },
      "cell_type": "markdown",
      "source": [
        "## Saving Subclassed Models"
      ]
    },
    {
      "metadata": {
        "id": "mJqOn0snzCRy"
      },
      "cell_type": "markdown",
      "source": [
        "Sequential models and Functional models are datastructures that represent a DAG of layers. As such,\n",
        "they can be safely serialized and deserialized.\n",
        "\n",
        "A subclassed model differs in that it's not a datastructure, it's a piece of code. The architecture of the model\n",
        "is defined via the body of the `call` method. This means that the architecture of the model cannot be safely serialized. To load a model, you'll need to have access to the code that created it (the code of the model subclass). Alternatively, you could be serializing this code as bytecode (e.g. via pickling), but that's unsafe and generally not portable.\n",
        "\n",
        "For more information about these differences, see the article [\"What are Symbolic and Imperative APIs in TensorFlow 2.0?\"](https://medium.com/tensorflow/what-are-symbolic-and-imperative-apis-in-tensorflow-2-0-dfccecb01021)."
      ]
    },
    {
      "metadata": {
        "id": "Pkwyu5dVz12P"
      },
      "cell_type": "markdown",
      "source": [
        "Let's consider the following subclassed model, which follows the same structure as the model from the first section:"
      ]
    },
    {
      "metadata": {
        "id": "4Onp-8rGyeQG"
      },
      "cell_type": "code",
      "source": [
        "class ThreeLayerMLP(keras.Model):\n",
        "  \n",
        "  def __init__(self, name=None):\n",
        "    super(ThreeLayerMLP, self).__init__(name=name)\n",
        "    self.dense_1 = layers.Dense(64, activation='relu', name='dense_1')\n",
        "    self.dense_2 = layers.Dense(64, activation='relu', name='dense_2')\n",
        "    self.pred_layer = layers.Dense(10, activation='softmax', name='predictions')\n",
        "    \n",
        "  def call(self, inputs):\n",
        "    x = self.dense_1(inputs)\n",
        "    x = self.dense_2(x)\n",
        "    return self.pred_layer(x)\n",
        "\n",
        "def get_model():\n",
        "  return ThreeLayerMLP(name='3_layer_mlp')\n",
        "\n",
        "model = get_model()"
      ],
      "execution_count": null,
      "outputs": []
    },
    {
      "metadata": {
        "id": "wwT_YoKA0yQW"
      },
      "cell_type": "markdown",
      "source": [
        "First of all, *a subclassed model that has never been used cannot be saved*.\n",
        "\n",
        "That's because a subclassed model needs to be called on some data in order to create its weights.\n",
        "\n",
        "Until the model has been called, it does not know the shape and dtype of the input data it should be \n",
        "expecting, and thus cannot create its weight variables. You may remember that in the Functional model from the first section, the shape and dtype of the inputs was specified in advance (via `keras.Input(...)`) -- that's why Functional models have a state as soon as they're instantiated.\n",
        "\n",
        "Let's train the model, so as to give it a state:"
      ]
    },
    {
      "metadata": {
        "id": "xqP4kIFN0fTZ",
        "outputId": "d9796fba-3980-4949-9c5a-90e80dcf7cc1",
        "colab": {
          "base_uri": "https://localhost:8080/",
          "height": 34
        }
      },
      "cell_type": "code",
      "source": [
        "(x_train, y_train), (x_test, y_test) = keras.datasets.mnist.load_data()\n",
        "x_train = x_train.reshape(60000, 784).astype('float32') / 255\n",
        "x_test = x_test.reshape(10000, 784).astype('float32') / 255\n",
        "\n",
        "model.compile(loss='sparse_categorical_crossentropy',\n",
        "              optimizer=keras.optimizers.RMSprop())\n",
        "history = model.fit(x_train, y_train,\n",
        "                    batch_size=64,\n",
        "                    epochs=1)"
      ],
      "execution_count": null,
      "outputs": [
        {
          "output_type": "stream",
          "text": [
            "60000/60000 [==============================] - 3s 52us/sample - loss: 0.3155\n"
          ],
          "name": "stdout"
        }
      ]
    },
    {
      "metadata": {
        "id": "rvGCpyX72HOC"
      },
      "cell_type": "markdown",
      "source": [
        "The recommended way to save a subclassed model is to use `save_weights` to create a TensorFlow SavedModel checkpoint, which will contain the value of all variables associated with the model:\n",
        "- The layers' weights\n",
        "- The optimizer's state\n",
        "- Any variables associated with stateful model metrics (if any)\n",
        "\n"
      ]
    },
    {
      "metadata": {
        "id": "gMg87Tz01cxQ"
      },
      "cell_type": "code",
      "source": [
        "model.save_weights('path_to_my_weights', save_format='tf')"
      ],
      "execution_count": null,
      "outputs": []
    },
    {
      "metadata": {
        "id": "KOKNBojtsl0F"
      },
      "cell_type": "code",
      "source": [
        "# Save predictions for future checks\n",
        "predictions = model.predict(x_test)\n",
        "# Also save the loss on the first batch\n",
        "# to later assert that the optimizer state was preserved\n",
        "first_batch_loss = model.train_on_batch(x_train[:64], y_train[:64])"
      ],
      "execution_count": null,
      "outputs": []
    },
    {
      "metadata": {
        "id": "h2PM_PL1SzPo"
      },
      "cell_type": "markdown",
      "source": [
        "To restore your model, you will need access to the code that created the model object.\n",
        "\n",
        "Note that in order to restore the optimizer state and the state of any stateful  metric, you should\n",
        "compile the model (with the exact same arguments as before) and call it on some data before calling `load_weights`:"
      ]
    },
    {
      "metadata": {
        "id": "OOSGiSkHTERy"
      },
      "cell_type": "code",
      "source": [
        "# Recreate the model\n",
        "new_model = get_model()\n",
        "new_model.compile(loss='sparse_categorical_crossentropy',\n",
        "                  optimizer=keras.optimizers.RMSprop())\n",
        "\n",
        "# This initializes the variables used by the optimizers,\n",
        "# as well as any stateful metric variables\n",
        "new_model.train_on_batch(x_train[:1], y_train[:1])\n",
        "\n",
        "# Load the state of the old model\n",
        "new_model.load_weights('path_to_my_weights')\n",
        "\n",
        "# Check that the model state has been preserved\n",
        "new_predictions = new_model.predict(x_test)\n",
        "np.testing.assert_allclose(predictions, new_predictions, atol=1e-6)\n",
        "\n",
        "# The optimizer state is preserved as well,\n",
        "# so you can resume training where you left off\n",
        "new_first_batch_loss = new_model.train_on_batch(x_train[:64], y_train[:64])\n",
        "assert first_batch_loss == new_first_batch_loss"
      ],
      "execution_count": null,
      "outputs": []
    },
    {
      "metadata": {
        "id": "2_XaE5Oqv7Rh"
      },
      "cell_type": "markdown",
      "source": [
        "You've reached the end of this guide! This covers everything you need to know about saving and serializing models with tf.keras in TensorFlow 2.0."
      ]
    }
  ]
}